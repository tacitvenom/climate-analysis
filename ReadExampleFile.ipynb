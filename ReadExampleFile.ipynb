{
 "cells": [
  {
   "cell_type": "code",
   "execution_count": 1,
   "metadata": {
    "collapsed": true
   },
   "outputs": [],
   "source": [
    "import pandas as pd\n"
   ]
  },
  {
   "cell_type": "code",
   "execution_count": 2,
   "metadata": {
    "collapsed": true
   },
   "outputs": [],
   "source": [
    "raw_files_directory = \"raw_data/data_files/\"\n",
    "example_raw_file = \"CLIMAT_RAW_200303.txt\""
   ]
  },
  {
   "cell_type": "markdown",
   "metadata": {},
   "source": [
    "## Read stations list"
   ]
  },
  {
   "cell_type": "code",
   "execution_count": 3,
   "metadata": {
    "collapsed": true
   },
   "outputs": [],
   "source": [
    "stations_file = \"stations_list_CLIMAT_data.txt\""
   ]
  },
  {
   "cell_type": "code",
   "execution_count": 4,
   "metadata": {},
   "outputs": [
    {
     "name": "stdout",
     "output_type": "stream",
     "text": [
      "WMO-Station ID; StationName;                                Latitude; Longitude; Height; Country\r",
      "\r\n",
      "01001;          Jan Mayen;                                     70.94;    -08.67;      9; Norway                                         \r",
      "\r\n",
      "01005;          Isfjord Radio;                                 78.06;     13.63;      9; Norway                                         \r",
      "\r\n",
      "01007;          Ny-Alesund;                                    78.92;     11.93;      8; Norway                                         \r",
      "\r\n",
      "01008;          Svalbard;                                      78.25;     15.50;     27; Norway                                         \r",
      "\r\n"
     ]
    }
   ],
   "source": [
    "!head -5 stations_list_CLIMAT_data.txt "
   ]
  },
  {
   "cell_type": "code",
   "execution_count": 5,
   "metadata": {
    "collapsed": true
   },
   "outputs": [],
   "source": [
    "stations_df = pd.read_csv(stations_file, sep=';', header=0, encoding=\"ISO-8859-1\")"
   ]
  },
  {
   "cell_type": "code",
   "execution_count": 6,
   "metadata": {},
   "outputs": [
    {
     "data": {
      "text/html": [
       "<div>\n",
       "<style scoped>\n",
       "    .dataframe tbody tr th:only-of-type {\n",
       "        vertical-align: middle;\n",
       "    }\n",
       "\n",
       "    .dataframe tbody tr th {\n",
       "        vertical-align: top;\n",
       "    }\n",
       "\n",
       "    .dataframe thead th {\n",
       "        text-align: right;\n",
       "    }\n",
       "</style>\n",
       "<table border=\"1\" class=\"dataframe\">\n",
       "  <thead>\n",
       "    <tr style=\"text-align: right;\">\n",
       "      <th></th>\n",
       "      <th>WMO-Station ID</th>\n",
       "      <th>StationName</th>\n",
       "      <th>Latitude</th>\n",
       "      <th>Longitude</th>\n",
       "      <th>Height</th>\n",
       "      <th>Country</th>\n",
       "    </tr>\n",
       "  </thead>\n",
       "  <tbody>\n",
       "    <tr>\n",
       "      <th>4396</th>\n",
       "      <td>99092</td>\n",
       "      <td>unknown station</td>\n",
       "      <td></td>\n",
       "      <td></td>\n",
       "      <td></td>\n",
       "      <td>...</td>\n",
       "    </tr>\n",
       "    <tr>\n",
       "      <th>4397</th>\n",
       "      <td>99113</td>\n",
       "      <td>unknown station</td>\n",
       "      <td></td>\n",
       "      <td></td>\n",
       "      <td></td>\n",
       "      <td>...</td>\n",
       "    </tr>\n",
       "    <tr>\n",
       "      <th>4398</th>\n",
       "      <td>\u001a</td>\n",
       "      <td>NaN</td>\n",
       "      <td>NaN</td>\n",
       "      <td>NaN</td>\n",
       "      <td>NaN</td>\n",
       "      <td>NaN</td>\n",
       "    </tr>\n",
       "  </tbody>\n",
       "</table>\n",
       "</div>"
      ],
      "text/plain": [
       "     WMO-Station ID                StationName  \\\n",
       "4396          99092            unknown station   \n",
       "4397          99113            unknown station   \n",
       "4398              \u001a                        NaN   \n",
       "\n",
       "                                     Latitude   Longitude   Height  \\\n",
       "4396                                                                 \n",
       "4397                                                                 \n",
       "4398                                      NaN         NaN      NaN   \n",
       "\n",
       "                                                Country  \n",
       "4396                                                ...  \n",
       "4397                                                ...  \n",
       "4398                                                NaN  "
      ]
     },
     "execution_count": 6,
     "metadata": {},
     "output_type": "execute_result"
    }
   ],
   "source": [
    "stations_df.tail(3)"
   ]
  },
  {
   "cell_type": "code",
   "execution_count": 7,
   "metadata": {
    "collapsed": true
   },
   "outputs": [],
   "source": [
    "stations_df = stations_df.drop([stations_df.shape[0]-1])"
   ]
  },
  {
   "cell_type": "code",
   "execution_count": 8,
   "metadata": {},
   "outputs": [
    {
     "data": {
      "text/html": [
       "<div>\n",
       "<style scoped>\n",
       "    .dataframe tbody tr th:only-of-type {\n",
       "        vertical-align: middle;\n",
       "    }\n",
       "\n",
       "    .dataframe tbody tr th {\n",
       "        vertical-align: top;\n",
       "    }\n",
       "\n",
       "    .dataframe thead th {\n",
       "        text-align: right;\n",
       "    }\n",
       "</style>\n",
       "<table border=\"1\" class=\"dataframe\">\n",
       "  <thead>\n",
       "    <tr style=\"text-align: right;\">\n",
       "      <th></th>\n",
       "      <th>WMO-Station ID</th>\n",
       "      <th>StationName</th>\n",
       "      <th>Latitude</th>\n",
       "      <th>Longitude</th>\n",
       "      <th>Height</th>\n",
       "      <th>Country</th>\n",
       "    </tr>\n",
       "  </thead>\n",
       "  <tbody>\n",
       "    <tr>\n",
       "      <th>4395</th>\n",
       "      <td>99090</td>\n",
       "      <td>unknown station</td>\n",
       "      <td></td>\n",
       "      <td></td>\n",
       "      <td></td>\n",
       "      <td>...</td>\n",
       "    </tr>\n",
       "    <tr>\n",
       "      <th>4396</th>\n",
       "      <td>99092</td>\n",
       "      <td>unknown station</td>\n",
       "      <td></td>\n",
       "      <td></td>\n",
       "      <td></td>\n",
       "      <td>...</td>\n",
       "    </tr>\n",
       "    <tr>\n",
       "      <th>4397</th>\n",
       "      <td>99113</td>\n",
       "      <td>unknown station</td>\n",
       "      <td></td>\n",
       "      <td></td>\n",
       "      <td></td>\n",
       "      <td>...</td>\n",
       "    </tr>\n",
       "  </tbody>\n",
       "</table>\n",
       "</div>"
      ],
      "text/plain": [
       "     WMO-Station ID                StationName  \\\n",
       "4395          99090            unknown station   \n",
       "4396          99092            unknown station   \n",
       "4397          99113            unknown station   \n",
       "\n",
       "                                     Latitude   Longitude   Height  \\\n",
       "4395                                                                 \n",
       "4396                                                                 \n",
       "4397                                                                 \n",
       "\n",
       "                                                Country  \n",
       "4395                                                ...  \n",
       "4396                                                ...  \n",
       "4397                                                ...  "
      ]
     },
     "execution_count": 8,
     "metadata": {},
     "output_type": "execute_result"
    }
   ],
   "source": [
    "stations_df.tail(3)"
   ]
  },
  {
   "cell_type": "code",
   "execution_count": 9,
   "metadata": {},
   "outputs": [
    {
     "data": {
      "text/html": [
       "<div>\n",
       "<style scoped>\n",
       "    .dataframe tbody tr th:only-of-type {\n",
       "        vertical-align: middle;\n",
       "    }\n",
       "\n",
       "    .dataframe tbody tr th {\n",
       "        vertical-align: top;\n",
       "    }\n",
       "\n",
       "    .dataframe thead th {\n",
       "        text-align: right;\n",
       "    }\n",
       "</style>\n",
       "<table border=\"1\" class=\"dataframe\">\n",
       "  <thead>\n",
       "    <tr style=\"text-align: right;\">\n",
       "      <th></th>\n",
       "      <th>WMO-Station ID</th>\n",
       "      <th>StationName</th>\n",
       "      <th>Latitude</th>\n",
       "      <th>Longitude</th>\n",
       "      <th>Height</th>\n",
       "      <th>Country</th>\n",
       "    </tr>\n",
       "  </thead>\n",
       "  <tbody>\n",
       "    <tr>\n",
       "      <th>0</th>\n",
       "      <td>01001</td>\n",
       "      <td>Jan Mayen</td>\n",
       "      <td>70.94</td>\n",
       "      <td>-08.67</td>\n",
       "      <td>9</td>\n",
       "      <td>Norway</td>\n",
       "    </tr>\n",
       "    <tr>\n",
       "      <th>1</th>\n",
       "      <td>01005</td>\n",
       "      <td>Isfjord Radio</td>\n",
       "      <td>78.06</td>\n",
       "      <td>13.63</td>\n",
       "      <td>9</td>\n",
       "      <td>Norway</td>\n",
       "    </tr>\n",
       "    <tr>\n",
       "      <th>2</th>\n",
       "      <td>01007</td>\n",
       "      <td>Ny-Alesund</td>\n",
       "      <td>78.92</td>\n",
       "      <td>11.93</td>\n",
       "      <td>8</td>\n",
       "      <td>Norway</td>\n",
       "    </tr>\n",
       "  </tbody>\n",
       "</table>\n",
       "</div>"
      ],
      "text/plain": [
       "  WMO-Station ID              StationName  \\\n",
       "0          01001                Jan Mayen   \n",
       "1          01005            Isfjord Radio   \n",
       "2          01007               Ny-Alesund   \n",
       "\n",
       "                                     Latitude   Longitude   Height  \\\n",
       "0                                       70.94      -08.67        9   \n",
       "1                                       78.06       13.63        9   \n",
       "2                                       78.92       11.93        8   \n",
       "\n",
       "                                            Country  \n",
       "0   Norway                                           \n",
       "1   Norway                                           \n",
       "2   Norway                                           "
      ]
     },
     "execution_count": 9,
     "metadata": {},
     "output_type": "execute_result"
    }
   ],
   "source": [
    "stations_df.head(3)"
   ]
  },
  {
   "cell_type": "code",
   "execution_count": 10,
   "metadata": {
    "collapsed": true
   },
   "outputs": [],
   "source": [
    "stations_df.columns = [col.strip() for col in stations_df.columns]"
   ]
  },
  {
   "cell_type": "code",
   "execution_count": 11,
   "metadata": {},
   "outputs": [
    {
     "data": {
      "text/plain": [
       "Index(['WMO-Station ID', 'StationName', 'Latitude', 'Longitude', 'Height',\n",
       "       'Country'],\n",
       "      dtype='object')"
      ]
     },
     "execution_count": 11,
     "metadata": {},
     "output_type": "execute_result"
    }
   ],
   "source": [
    "stations_df.columns"
   ]
  },
  {
   "cell_type": "code",
   "execution_count": 12,
   "metadata": {
    "collapsed": true
   },
   "outputs": [],
   "source": [
    "for col in stations_df.columns:\n",
    "    stations_df[col] = stations_df[col].str.strip()"
   ]
  },
  {
   "cell_type": "code",
   "execution_count": 13,
   "metadata": {},
   "outputs": [
    {
     "data": {
      "text/plain": [
       "WMO-Station ID    object\n",
       "StationName       object\n",
       "Latitude          object\n",
       "Longitude         object\n",
       "Height            object\n",
       "Country           object\n",
       "dtype: object"
      ]
     },
     "execution_count": 13,
     "metadata": {},
     "output_type": "execute_result"
    }
   ],
   "source": [
    "stations_df.dtypes"
   ]
  },
  {
   "cell_type": "code",
   "execution_count": 14,
   "metadata": {},
   "outputs": [],
   "source": [
    "stations_df = stations_df.astype({'WMO-Station ID':int}).rename(columns={'WMO-Station ID':'IIiii'})\n",
    "#, 'Latitude': float, 'Longitude': float, 'Height': float}) "
   ]
  },
  {
   "cell_type": "code",
   "execution_count": 15,
   "metadata": {},
   "outputs": [
    {
     "data": {
      "text/plain": [
       "IIiii           int64\n",
       "StationName    object\n",
       "Latitude       object\n",
       "Longitude      object\n",
       "Height         object\n",
       "Country        object\n",
       "dtype: object"
      ]
     },
     "execution_count": 15,
     "metadata": {},
     "output_type": "execute_result"
    }
   ],
   "source": [
    "stations_df.dtypes"
   ]
  },
  {
   "cell_type": "code",
   "execution_count": 16,
   "metadata": {},
   "outputs": [
    {
     "data": {
      "text/plain": [
       "array(['Norway', 'Sweden', 'Finland',\n",
       "       'United Kingdom of Great Britain and N.-Ireland', 'Ireland',\n",
       "       'Iceland', 'Greenland', 'Faroe Islands', 'Denmark', 'Netherlands',\n",
       "       'Belgium', 'Luxembourg', 'Switzerland', 'France', 'Spain',\n",
       "       'Gibraltar', 'Portugal', 'Cape Verde', 'Germany', 'Austria',\n",
       "       'Czech Republic', 'Slovakia (Slovak. Rep.)', 'Poland', 'Hungary',\n",
       "       'Slowenia', 'Croatia/Hrvatska', 'Serbia', 'Bosnia and Herzegowina',\n",
       "       'Montenegro', 'Macedonia', 'Albania', 'Romania', 'Bulgaria',\n",
       "       'Italy', 'Malta', 'Greece', 'Turkey', 'Cyprus',\n",
       "       'Russian Federation', 'Estonia', 'Latvia', 'Lithuania', 'Belarus',\n",
       "       'Kazakhstan', 'Ukraine', 'Moldova, Rep. Of', 'Kyrgyzstan',\n",
       "       'Georgia', '', 'Azerbaijan', 'Armenia', 'Uzbekistan',\n",
       "       'Turkmenistan', 'Tajikistan', 'Syrian Arab Rep.', 'Lebanon',\n",
       "       'Israel', 'Jordan', 'Saudi Arabia', 'Bahrain', 'Qatar', 'Oman',\n",
       "       'Kuwait', 'Yemen', 'Iraq', 'Iran (Islamic Rep. of)', 'Afghanistan',\n",
       "       'United Arab. Emirates', 'Pakistan', 'Bangladesh', 'India',\n",
       "       'Sri Lanka', 'Maldives', 'Mongolia', 'Nepal', 'China',\n",
       "       'Republic of China, Taiwan', \"Korea, Dem. People's Rep.\",\n",
       "       'Republic of Korea', 'Japan', 'Myanmar', 'Thailand', 'Malaysia',\n",
       "       'Singapore', 'Vietnam', \"People's Dem. Rep. Laos\", 'Cambodia',\n",
       "       'Western-Sahara', 'Morocco', 'Algeria', 'Tunesia', 'Niger', 'Mali',\n",
       "       'Mauretania', 'Senegal', 'Gambia', 'Guinea-Bissau', 'Guinea',\n",
       "       'Sierra Leone', 'Ascencion Island', 'São Tomé und Príncipe',\n",
       "       'Mauritius', 'Libya', 'Egypt', 'Sudan', 'South Sudan', 'Eritrea',\n",
       "       'Djibouti', 'Somalia', 'Ethiopia', 'Kenya', 'Uganda', 'Tanzania',\n",
       "       'Seychelles', 'Dem. Republic of the Congo', 'Rwanda', 'Burundi',\n",
       "       'Republic of the Congo', 'Gabon', 'Central African Republic',\n",
       "       'Chad', 'Equatorial Guinea', 'Cameroon', 'Nigeria', 'Benin', 'Togo',\n",
       "       'Ghana', 'Burkina Faso', \"Cote d'Ivoire\", 'Liberia', 'Angola',\n",
       "       'Comoros', 'Madagascar', 'Mozambique', 'Zambia', 'Malawi',\n",
       "       'Zimbabwe', 'Namibia', 'Botswana', 'South Africa',\n",
       "       'United States of America', 'Canada', 'Mexico', 'Bermuda',\n",
       "       'Bahamas', 'Cuba', 'Cayman Islands', 'Jamaica', 'Haiti',\n",
       "       'Dominican Republic', 'Honduras', 'Puerto Rico', 'Belize',\n",
       "       'Guatemala', 'El Salvador', 'Nicaragua', 'Costa Rica',\n",
       "       'St. Maarten', 'Guadeloupe', 'Martinique', 'Barbados',\n",
       "       'Trinidad and Tobago', 'Aruba', 'Curacao', 'Colombia', 'Venezuela',\n",
       "       'Guyana', 'Suriname', 'French Guiana', 'Brazil', 'Ecuador', 'Peru',\n",
       "       'Bolivia', 'Chile', 'Paraguay', 'Uruguay', 'Argentina',\n",
       "       'Antarctica', 'Australia', 'New Zealand', 'Guam',\n",
       "       'Marianen-Islands', 'Wake-Insel', 'Caroline-Islands',\n",
       "       'Marshall-Islands', 'Palau-Islands', 'Salomon-Islands', 'Vanuatu',\n",
       "       'New Caledonia', 'Kiribati', 'Tuvalu', 'Fiji', 'Wallis-Islands',\n",
       "       'West-Samoa', 'American Samoa', 'Cook-Island', 'French Polynesia',\n",
       "       'Papua New Guinea', 'Indonesia', 'Brunei', 'Australien, SW-Pazifik',\n",
       "       'Indonesien', 'Timor-Leste (East Timor)', 'Philippines'], dtype=object)"
      ]
     },
     "execution_count": 16,
     "metadata": {},
     "output_type": "execute_result"
    }
   ],
   "source": [
    "stations_df['Country'].unique()"
   ]
  },
  {
   "cell_type": "markdown",
   "metadata": {},
   "source": [
    "## Read a sample data file"
   ]
  },
  {
   "cell_type": "code",
   "execution_count": 17,
   "metadata": {
    "collapsed": true
   },
   "outputs": [],
   "source": [
    "raw_files_directory = \"raw_data/data_files/\"\n",
    "example_raw_file = \"CLIMAT_RAW_202107.txt\"\n",
    "\n",
    "sample_raw_file_df = pd.read_csv(raw_files_directory + example_raw_file, sep=';', header=0, encoding=\"ISO-8859-1\", usecols=[\"year\", \"month\", \"IIiii\", \"T\", \"Tn\", \"Tx\"])"
   ]
  },
  {
   "cell_type": "code",
   "execution_count": 18,
   "metadata": {},
   "outputs": [
    {
     "name": "stdout",
     "output_type": "stream",
     "text": [
      "year;month;IIiii;G1;Po;G1;P;G1;sn;T;st;G1;sn;Tx;sn;Tn;G1;e;G1;R1;Rd;nr;G1;S1;ps;G1;mp;mT;mTx;mTn;G1;me;mR;mS;G2;Yb;Yc;G2;Po;G2;P;G2;sn;T;st;G2;sn;Tx;sn;Tn;G2;e;G2;R1;nr;G2;S1;G2;YP;YT;YTx;G2;Ye;YR;YS;G3;T25;T30;G3;T35;T40;G3;Tn0;Tx0;G3;R01;R05;G3;R10;R50;G3;R100;R150;G3;s00;s01;G3;s10;s50;G3;f10;f20;f30;G3;V1;V2;V3;G4;sn;Txd;yx;G4;sn;Tnd;yn;G4;sn;Tax;yax;G4;sn;Tan;yan;G4;Rx;yr;G4;iw;fx;yfx;G4;Dts;Dgr;G4;iy;Gx;Gn\r",
      "\r\n",
      "2021;07;01001;1;10095;2;10107;3;0;069;013;4;0;094;0;052;5;086;6;0005;0;02;;;;8;00;00;0;0;9;00;00;31;0;61;90;1;10106;2;10092;3;0;042;016;4;0;064;0;027;5;075;6;0048;09;;;8;00;00;00;9;00;00;//;0;00;00;1;00;00;2;00;00;3;02;00;4;00;00;5;00;00;;;;;;;8;11;00;00;9;00;00;12;0;0;090;18;1;0;030;02;2;0;134;09;3;0;009;02;4;0013;23;5;1;376;01;6;00;00;7;2;18;18\r",
      "\r\n",
      "2021;07;01007;1;10048;2;10057;3;0;055;014;4;0;067;0;040;5;077;6;0009;1;02;;;;8;00;00;0;0;9;00;00;31;0;61;90;1;10114;2;10104;3;0;049;018;4;0;070;0;036;5;076;6;0023;06;;;8;14;14;14;9;14;14;;0;00;00;1;00;00;2;00;00;3;02;00;4;00;00;5;00;00;6;00;00;7;00;00;8;04;00;00;9;00;00;02;0;0;094;16;1;0;025;01;2;0;114;16;3;0;015;51;4;0036;18;5;1;151;51;6;00;00;7;2;18;18\r",
      "\r\n"
     ]
    }
   ],
   "source": [
    "! head -3 raw_data/data_files/CLIMAT_RAW_202107.txt"
   ]
  },
  {
   "cell_type": "code",
   "execution_count": 19,
   "metadata": {
    "collapsed": true
   },
   "outputs": [],
   "source": [
    "sample_raw_file_df = sample_raw_file_df.drop([sample_raw_file_df.shape[0]-1])"
   ]
  },
  {
   "cell_type": "code",
   "execution_count": 20,
   "metadata": {},
   "outputs": [
    {
     "data": {
      "text/html": [
       "<div>\n",
       "<style scoped>\n",
       "    .dataframe tbody tr th:only-of-type {\n",
       "        vertical-align: middle;\n",
       "    }\n",
       "\n",
       "    .dataframe tbody tr th {\n",
       "        vertical-align: top;\n",
       "    }\n",
       "\n",
       "    .dataframe thead th {\n",
       "        text-align: right;\n",
       "    }\n",
       "</style>\n",
       "<table border=\"1\" class=\"dataframe\">\n",
       "  <thead>\n",
       "    <tr style=\"text-align: right;\">\n",
       "      <th></th>\n",
       "      <th>month</th>\n",
       "      <th>IIiii</th>\n",
       "      <th>T</th>\n",
       "      <th>Tx</th>\n",
       "      <th>Tn</th>\n",
       "    </tr>\n",
       "  </thead>\n",
       "  <tbody>\n",
       "    <tr>\n",
       "      <th>count</th>\n",
       "      <td>2779.0</td>\n",
       "      <td>2779.000000</td>\n",
       "      <td>2684.000000</td>\n",
       "      <td>2655.000000</td>\n",
       "      <td>2647.000000</td>\n",
       "    </tr>\n",
       "    <tr>\n",
       "      <th>mean</th>\n",
       "      <td>7.0</td>\n",
       "      <td>52951.400864</td>\n",
       "      <td>219.991058</td>\n",
       "      <td>275.133333</td>\n",
       "      <td>170.676993</td>\n",
       "    </tr>\n",
       "    <tr>\n",
       "      <th>std</th>\n",
       "      <td>0.0</td>\n",
       "      <td>29241.539207</td>\n",
       "      <td>73.647759</td>\n",
       "      <td>75.611954</td>\n",
       "      <td>74.709411</td>\n",
       "    </tr>\n",
       "    <tr>\n",
       "      <th>min</th>\n",
       "      <td>7.0</td>\n",
       "      <td>1001.000000</td>\n",
       "      <td>0.000000</td>\n",
       "      <td>2.000000</td>\n",
       "      <td>0.000000</td>\n",
       "    </tr>\n",
       "    <tr>\n",
       "      <th>25%</th>\n",
       "      <td>7.0</td>\n",
       "      <td>26864.000000</td>\n",
       "      <td>177.000000</td>\n",
       "      <td>234.000000</td>\n",
       "      <td>124.000000</td>\n",
       "    </tr>\n",
       "    <tr>\n",
       "      <th>50%</th>\n",
       "      <td>7.0</td>\n",
       "      <td>60429.000000</td>\n",
       "      <td>226.000000</td>\n",
       "      <td>285.000000</td>\n",
       "      <td>170.000000</td>\n",
       "    </tr>\n",
       "    <tr>\n",
       "      <th>75%</th>\n",
       "      <td>7.0</td>\n",
       "      <td>76141.000000</td>\n",
       "      <td>272.000000</td>\n",
       "      <td>322.000000</td>\n",
       "      <td>228.000000</td>\n",
       "    </tr>\n",
       "    <tr>\n",
       "      <th>max</th>\n",
       "      <td>7.0</td>\n",
       "      <td>98851.000000</td>\n",
       "      <td>671.000000</td>\n",
       "      <td>625.000000</td>\n",
       "      <td>711.000000</td>\n",
       "    </tr>\n",
       "  </tbody>\n",
       "</table>\n",
       "</div>"
      ],
      "text/plain": [
       "        month         IIiii            T           Tx           Tn\n",
       "count  2779.0   2779.000000  2684.000000  2655.000000  2647.000000\n",
       "mean      7.0  52951.400864   219.991058   275.133333   170.676993\n",
       "std       0.0  29241.539207    73.647759    75.611954    74.709411\n",
       "min       7.0   1001.000000     0.000000     2.000000     0.000000\n",
       "25%       7.0  26864.000000   177.000000   234.000000   124.000000\n",
       "50%       7.0  60429.000000   226.000000   285.000000   170.000000\n",
       "75%       7.0  76141.000000   272.000000   322.000000   228.000000\n",
       "max       7.0  98851.000000   671.000000   625.000000   711.000000"
      ]
     },
     "execution_count": 20,
     "metadata": {},
     "output_type": "execute_result"
    }
   ],
   "source": [
    "sample_raw_file_df.describe()"
   ]
  },
  {
   "cell_type": "code",
   "execution_count": 21,
   "metadata": {},
   "outputs": [
    {
     "data": {
      "text/html": [
       "<div>\n",
       "<style scoped>\n",
       "    .dataframe tbody tr th:only-of-type {\n",
       "        vertical-align: middle;\n",
       "    }\n",
       "\n",
       "    .dataframe tbody tr th {\n",
       "        vertical-align: top;\n",
       "    }\n",
       "\n",
       "    .dataframe thead th {\n",
       "        text-align: right;\n",
       "    }\n",
       "</style>\n",
       "<table border=\"1\" class=\"dataframe\">\n",
       "  <thead>\n",
       "    <tr style=\"text-align: right;\">\n",
       "      <th></th>\n",
       "      <th>year</th>\n",
       "      <th>month</th>\n",
       "      <th>IIiii</th>\n",
       "      <th>T</th>\n",
       "      <th>Tx</th>\n",
       "      <th>Tn</th>\n",
       "    </tr>\n",
       "  </thead>\n",
       "  <tbody>\n",
       "    <tr>\n",
       "      <th>2774</th>\n",
       "      <td>2021</td>\n",
       "      <td>7.0</td>\n",
       "      <td>98646.0</td>\n",
       "      <td>293.0</td>\n",
       "      <td>326.0</td>\n",
       "      <td>260.0</td>\n",
       "    </tr>\n",
       "    <tr>\n",
       "      <th>2775</th>\n",
       "      <td>2021</td>\n",
       "      <td>7.0</td>\n",
       "      <td>98653.0</td>\n",
       "      <td>291.0</td>\n",
       "      <td>325.0</td>\n",
       "      <td>239.0</td>\n",
       "    </tr>\n",
       "    <tr>\n",
       "      <th>2776</th>\n",
       "      <td>2021</td>\n",
       "      <td>7.0</td>\n",
       "      <td>98755.0</td>\n",
       "      <td>291.0</td>\n",
       "      <td>338.0</td>\n",
       "      <td>243.0</td>\n",
       "    </tr>\n",
       "    <tr>\n",
       "      <th>2777</th>\n",
       "      <td>2021</td>\n",
       "      <td>7.0</td>\n",
       "      <td>98836.0</td>\n",
       "      <td>291.0</td>\n",
       "      <td>340.0</td>\n",
       "      <td>242.0</td>\n",
       "    </tr>\n",
       "    <tr>\n",
       "      <th>2778</th>\n",
       "      <td>2021</td>\n",
       "      <td>7.0</td>\n",
       "      <td>98851.0</td>\n",
       "      <td>266.0</td>\n",
       "      <td>309.0</td>\n",
       "      <td>222.0</td>\n",
       "    </tr>\n",
       "  </tbody>\n",
       "</table>\n",
       "</div>"
      ],
      "text/plain": [
       "      year  month    IIiii      T     Tx     Tn\n",
       "2774  2021    7.0  98646.0  293.0  326.0  260.0\n",
       "2775  2021    7.0  98653.0  291.0  325.0  239.0\n",
       "2776  2021    7.0  98755.0  291.0  338.0  243.0\n",
       "2777  2021    7.0  98836.0  291.0  340.0  242.0\n",
       "2778  2021    7.0  98851.0  266.0  309.0  222.0"
      ]
     },
     "execution_count": 21,
     "metadata": {},
     "output_type": "execute_result"
    }
   ],
   "source": [
    "sample_raw_file_df.tail()"
   ]
  },
  {
   "cell_type": "code",
   "execution_count": 22,
   "metadata": {},
   "outputs": [
    {
     "data": {
      "text/plain": [
       "Index(['year', 'month', 'IIiii', 'T', 'Tx', 'Tn'], dtype='object')"
      ]
     },
     "execution_count": 22,
     "metadata": {},
     "output_type": "execute_result"
    }
   ],
   "source": [
    "sample_raw_file_df.columns"
   ]
  },
  {
   "cell_type": "code",
   "execution_count": 23,
   "metadata": {},
   "outputs": [
    {
     "data": {
      "text/plain": [
       "2779"
      ]
     },
     "execution_count": 23,
     "metadata": {},
     "output_type": "execute_result"
    }
   ],
   "source": [
    "sample_raw_file_df['IIiii'].nunique()"
   ]
  },
  {
   "cell_type": "code",
   "execution_count": 24,
   "metadata": {},
   "outputs": [
    {
     "data": {
      "text/plain": [
       "year      object\n",
       "month    float64\n",
       "IIiii    float64\n",
       "T        float64\n",
       "Tx       float64\n",
       "Tn       float64\n",
       "dtype: object"
      ]
     },
     "execution_count": 24,
     "metadata": {},
     "output_type": "execute_result"
    }
   ],
   "source": [
    "sample_raw_file_df.dtypes"
   ]
  },
  {
   "cell_type": "code",
   "execution_count": 25,
   "metadata": {},
   "outputs": [],
   "source": [
    "sample_raw_file_df = sample_raw_file_df.astype({'IIiii':int, 'year': int, 'month': int}) "
   ]
  },
  {
   "cell_type": "markdown",
   "metadata": {},
   "source": [
    "## Check data for some places manually"
   ]
  },
  {
   "cell_type": "code",
   "execution_count": 26,
   "metadata": {},
   "outputs": [
    {
     "data": {
      "text/plain": [
       "Index(['IIiii', 'StationName', 'Latitude', 'Longitude', 'Height', 'Country'], dtype='object')"
      ]
     },
     "execution_count": 26,
     "metadata": {},
     "output_type": "execute_result"
    }
   ],
   "source": [
    "stations_df.columns"
   ]
  },
  {
   "cell_type": "code",
   "execution_count": 27,
   "metadata": {},
   "outputs": [
    {
     "data": {
      "text/plain": [
       "IIiii           int64\n",
       "StationName    object\n",
       "Latitude       object\n",
       "Longitude      object\n",
       "Height         object\n",
       "Country        object\n",
       "dtype: object"
      ]
     },
     "execution_count": 27,
     "metadata": {},
     "output_type": "execute_result"
    }
   ],
   "source": [
    "stations_df.dtypes"
   ]
  },
  {
   "cell_type": "code",
   "execution_count": 29,
   "metadata": {},
   "outputs": [
    {
     "data": {
      "text/plain": [
       "(4398, 6)"
      ]
     },
     "execution_count": 29,
     "metadata": {},
     "output_type": "execute_result"
    }
   ],
   "source": [
    "stations_df.shape"
   ]
  },
  {
   "cell_type": "code",
   "execution_count": 31,
   "metadata": {},
   "outputs": [
    {
     "data": {
      "text/plain": [
       "array([ 1001,  1005,  1007, ..., 99090, 99092, 99113])"
      ]
     },
     "execution_count": 31,
     "metadata": {},
     "output_type": "execute_result"
    }
   ],
   "source": [
    "stations_df['IIiii'].unique()"
   ]
  },
  {
   "cell_type": "code",
   "execution_count": 32,
   "metadata": {},
   "outputs": [
    {
     "data": {
      "text/html": [
       "<div>\n",
       "<style scoped>\n",
       "    .dataframe tbody tr th:only-of-type {\n",
       "        vertical-align: middle;\n",
       "    }\n",
       "\n",
       "    .dataframe tbody tr th {\n",
       "        vertical-align: top;\n",
       "    }\n",
       "\n",
       "    .dataframe thead th {\n",
       "        text-align: right;\n",
       "    }\n",
       "</style>\n",
       "<table border=\"1\" class=\"dataframe\">\n",
       "  <thead>\n",
       "    <tr style=\"text-align: right;\">\n",
       "      <th></th>\n",
       "      <th>IIiii</th>\n",
       "      <th>StationName</th>\n",
       "      <th>Latitude</th>\n",
       "      <th>Longitude</th>\n",
       "      <th>Height</th>\n",
       "      <th>Country</th>\n",
       "    </tr>\n",
       "  </thead>\n",
       "  <tbody>\n",
       "    <tr>\n",
       "      <th>0</th>\n",
       "      <td>1001</td>\n",
       "      <td>Jan Mayen</td>\n",
       "      <td>70.94</td>\n",
       "      <td>-08.67</td>\n",
       "      <td>9</td>\n",
       "      <td>Norway</td>\n",
       "    </tr>\n",
       "  </tbody>\n",
       "</table>\n",
       "</div>"
      ],
      "text/plain": [
       "   IIiii StationName Latitude Longitude Height Country\n",
       "0   1001   Jan Mayen    70.94    -08.67      9  Norway"
      ]
     },
     "execution_count": 32,
     "metadata": {},
     "output_type": "execute_result"
    }
   ],
   "source": [
    "stations_df[stations_df['IIiii']==1001]"
   ]
  },
  {
   "cell_type": "code",
   "execution_count": 34,
   "metadata": {},
   "outputs": [
    {
     "data": {
      "text/html": [
       "<div>\n",
       "<style scoped>\n",
       "    .dataframe tbody tr th:only-of-type {\n",
       "        vertical-align: middle;\n",
       "    }\n",
       "\n",
       "    .dataframe tbody tr th {\n",
       "        vertical-align: top;\n",
       "    }\n",
       "\n",
       "    .dataframe thead th {\n",
       "        text-align: right;\n",
       "    }\n",
       "</style>\n",
       "<table border=\"1\" class=\"dataframe\">\n",
       "  <thead>\n",
       "    <tr style=\"text-align: right;\">\n",
       "      <th></th>\n",
       "      <th>IIiii</th>\n",
       "      <th>StationName</th>\n",
       "      <th>Latitude</th>\n",
       "      <th>Longitude</th>\n",
       "      <th>Height</th>\n",
       "      <th>Country</th>\n",
       "    </tr>\n",
       "  </thead>\n",
       "  <tbody>\n",
       "    <tr>\n",
       "      <th>1520</th>\n",
       "      <td>42027</td>\n",
       "      <td>Srinagar</td>\n",
       "      <td>34.08</td>\n",
       "      <td>74.83</td>\n",
       "      <td>1587</td>\n",
       "      <td>India</td>\n",
       "    </tr>\n",
       "    <tr>\n",
       "      <th>1521</th>\n",
       "      <td>42034</td>\n",
       "      <td>Leh</td>\n",
       "      <td>34.15</td>\n",
       "      <td>77.57</td>\n",
       "      <td>3513</td>\n",
       "      <td>India</td>\n",
       "    </tr>\n",
       "    <tr>\n",
       "      <th>1522</th>\n",
       "      <td>42071</td>\n",
       "      <td>Amritsar</td>\n",
       "      <td>31.71</td>\n",
       "      <td>74.80</td>\n",
       "      <td>234</td>\n",
       "      <td>India</td>\n",
       "    </tr>\n",
       "    <tr>\n",
       "      <th>1523</th>\n",
       "      <td>42099</td>\n",
       "      <td>Ludhiana</td>\n",
       "      <td>30.93</td>\n",
       "      <td>75.87</td>\n",
       "      <td>247</td>\n",
       "      <td>India</td>\n",
       "    </tr>\n",
       "    <tr>\n",
       "      <th>1524</th>\n",
       "      <td>42131</td>\n",
       "      <td>Hissar</td>\n",
       "      <td>29.17</td>\n",
       "      <td>75.73</td>\n",
       "      <td>210</td>\n",
       "      <td>India</td>\n",
       "    </tr>\n",
       "    <tr>\n",
       "      <th>1525</th>\n",
       "      <td>42147</td>\n",
       "      <td>Mukteshwar</td>\n",
       "      <td>29.47</td>\n",
       "      <td>79.65</td>\n",
       "      <td>2311</td>\n",
       "      <td>India</td>\n",
       "    </tr>\n",
       "    <tr>\n",
       "      <th>1526</th>\n",
       "      <td>42165</td>\n",
       "      <td>Bikaner</td>\n",
       "      <td>28.00</td>\n",
       "      <td>73.30</td>\n",
       "      <td>224</td>\n",
       "      <td>India</td>\n",
       "    </tr>\n",
       "    <tr>\n",
       "      <th>1527</th>\n",
       "      <td>42182</td>\n",
       "      <td>New Delhi/Safdarjung Airp.</td>\n",
       "      <td>28.58</td>\n",
       "      <td>77.20</td>\n",
       "      <td>216</td>\n",
       "      <td>India</td>\n",
       "    </tr>\n",
       "    <tr>\n",
       "      <th>1528</th>\n",
       "      <td>42260</td>\n",
       "      <td>Agra</td>\n",
       "      <td>27.15</td>\n",
       "      <td>77.97</td>\n",
       "      <td>169</td>\n",
       "      <td>India</td>\n",
       "    </tr>\n",
       "    <tr>\n",
       "      <th>1529</th>\n",
       "      <td>42261</td>\n",
       "      <td>Agra</td>\n",
       "      <td>27.17</td>\n",
       "      <td>78.03</td>\n",
       "      <td>169</td>\n",
       "      <td>India</td>\n",
       "    </tr>\n",
       "    <tr>\n",
       "      <th>1530</th>\n",
       "      <td>42295</td>\n",
       "      <td>Darjeeling</td>\n",
       "      <td>27.05</td>\n",
       "      <td>88.26</td>\n",
       "      <td>2134</td>\n",
       "      <td>India</td>\n",
       "    </tr>\n",
       "    <tr>\n",
       "      <th>1531</th>\n",
       "      <td>42314</td>\n",
       "      <td>Dibrugarh Airp.</td>\n",
       "      <td>27.48</td>\n",
       "      <td>95.02</td>\n",
       "      <td>111</td>\n",
       "      <td>India</td>\n",
       "    </tr>\n",
       "    <tr>\n",
       "      <th>1532</th>\n",
       "      <td>42339</td>\n",
       "      <td>Jodhpur</td>\n",
       "      <td>26.25</td>\n",
       "      <td>73.05</td>\n",
       "      <td>221</td>\n",
       "      <td>India</td>\n",
       "    </tr>\n",
       "    <tr>\n",
       "      <th>1533</th>\n",
       "      <td>42348</td>\n",
       "      <td>Jaipur/Sanganer</td>\n",
       "      <td>26.82</td>\n",
       "      <td>75.80</td>\n",
       "      <td>390</td>\n",
       "      <td>India</td>\n",
       "    </tr>\n",
       "    <tr>\n",
       "      <th>1534</th>\n",
       "      <td>42391</td>\n",
       "      <td>Darbhanga</td>\n",
       "      <td>26.17</td>\n",
       "      <td>85.90</td>\n",
       "      <td>49</td>\n",
       "      <td>India</td>\n",
       "    </tr>\n",
       "    <tr>\n",
       "      <th>1535</th>\n",
       "      <td>42404</td>\n",
       "      <td>Dhubri</td>\n",
       "      <td>26.02</td>\n",
       "      <td>89.98</td>\n",
       "      <td>35</td>\n",
       "      <td>India</td>\n",
       "    </tr>\n",
       "    <tr>\n",
       "      <th>1536</th>\n",
       "      <td>42410</td>\n",
       "      <td>Guwahati Airp.</td>\n",
       "      <td>26.10</td>\n",
       "      <td>91.58</td>\n",
       "      <td>54</td>\n",
       "      <td>India</td>\n",
       "    </tr>\n",
       "    <tr>\n",
       "      <th>1537</th>\n",
       "      <td>42451</td>\n",
       "      <td>Kota</td>\n",
       "      <td>25.18</td>\n",
       "      <td>75.85</td>\n",
       "      <td>256</td>\n",
       "      <td>India</td>\n",
       "    </tr>\n",
       "    <tr>\n",
       "      <th>1538</th>\n",
       "      <td>42452</td>\n",
       "      <td>Kota</td>\n",
       "      <td>25.16</td>\n",
       "      <td>75.85</td>\n",
       "      <td>279</td>\n",
       "      <td>India</td>\n",
       "    </tr>\n",
       "    <tr>\n",
       "      <th>1539</th>\n",
       "      <td>42475</td>\n",
       "      <td>Allahabad</td>\n",
       "      <td>25.45</td>\n",
       "      <td>81.73</td>\n",
       "      <td>98</td>\n",
       "      <td>India</td>\n",
       "    </tr>\n",
       "    <tr>\n",
       "      <th>1540</th>\n",
       "      <td>42492</td>\n",
       "      <td>Patna</td>\n",
       "      <td>25.19</td>\n",
       "      <td>85.09</td>\n",
       "      <td>57</td>\n",
       "      <td>India</td>\n",
       "    </tr>\n",
       "    <tr>\n",
       "      <th>1541</th>\n",
       "      <td>42515</td>\n",
       "      <td>Cherrapunji</td>\n",
       "      <td>25.25</td>\n",
       "      <td>91.73</td>\n",
       "      <td>1300</td>\n",
       "      <td>India</td>\n",
       "    </tr>\n",
       "    <tr>\n",
       "      <th>1542</th>\n",
       "      <td>42587</td>\n",
       "      <td>Daltonganj</td>\n",
       "      <td>24.05</td>\n",
       "      <td>84.07</td>\n",
       "      <td>221</td>\n",
       "      <td>India</td>\n",
       "    </tr>\n",
       "    <tr>\n",
       "      <th>1543</th>\n",
       "      <td>42599</td>\n",
       "      <td>Dumka</td>\n",
       "      <td>24.27</td>\n",
       "      <td>87.25</td>\n",
       "      <td>149</td>\n",
       "      <td>India</td>\n",
       "    </tr>\n",
       "    <tr>\n",
       "      <th>1544</th>\n",
       "      <td>42619</td>\n",
       "      <td>Silchar</td>\n",
       "      <td>24.82</td>\n",
       "      <td>92.80</td>\n",
       "      <td>21</td>\n",
       "      <td>India</td>\n",
       "    </tr>\n",
       "    <tr>\n",
       "      <th>1545</th>\n",
       "      <td>42647</td>\n",
       "      <td>Ahmadabad</td>\n",
       "      <td>23.07</td>\n",
       "      <td>72.63</td>\n",
       "      <td>56</td>\n",
       "      <td>India</td>\n",
       "    </tr>\n",
       "    <tr>\n",
       "      <th>1546</th>\n",
       "      <td>42671</td>\n",
       "      <td>Sagar</td>\n",
       "      <td>23.85</td>\n",
       "      <td>78.75</td>\n",
       "      <td>550</td>\n",
       "      <td>India</td>\n",
       "    </tr>\n",
       "    <tr>\n",
       "      <th>1547</th>\n",
       "      <td>42731</td>\n",
       "      <td>Dwarka</td>\n",
       "      <td>22.37</td>\n",
       "      <td>69.08</td>\n",
       "      <td>11</td>\n",
       "      <td>India</td>\n",
       "    </tr>\n",
       "    <tr>\n",
       "      <th>1548</th>\n",
       "      <td>42754</td>\n",
       "      <td>Indore</td>\n",
       "      <td>22.72</td>\n",
       "      <td>75.80</td>\n",
       "      <td>567</td>\n",
       "      <td>India</td>\n",
       "    </tr>\n",
       "    <tr>\n",
       "      <th>1549</th>\n",
       "      <td>42807</td>\n",
       "      <td>Kolkata (Calcutta)</td>\n",
       "      <td>22.53</td>\n",
       "      <td>88.33</td>\n",
       "      <td>6</td>\n",
       "      <td>India</td>\n",
       "    </tr>\n",
       "    <tr>\n",
       "      <th>1550</th>\n",
       "      <td>42867</td>\n",
       "      <td>Nagpur</td>\n",
       "      <td>21.10</td>\n",
       "      <td>79.05</td>\n",
       "      <td>310</td>\n",
       "      <td>India</td>\n",
       "    </tr>\n",
       "    <tr>\n",
       "      <th>1551</th>\n",
       "      <td>42909</td>\n",
       "      <td>Veraval</td>\n",
       "      <td>20.90</td>\n",
       "      <td>70.37</td>\n",
       "      <td>12</td>\n",
       "      <td>India</td>\n",
       "    </tr>\n",
       "    <tr>\n",
       "      <th>1552</th>\n",
       "      <td>42933</td>\n",
       "      <td>Akola</td>\n",
       "      <td>20.70</td>\n",
       "      <td>77.03</td>\n",
       "      <td>282</td>\n",
       "      <td>India</td>\n",
       "    </tr>\n",
       "    <tr>\n",
       "      <th>1553</th>\n",
       "      <td>42970</td>\n",
       "      <td>Cuttack</td>\n",
       "      <td>20.47</td>\n",
       "      <td>85.93</td>\n",
       "      <td>27</td>\n",
       "      <td>India</td>\n",
       "    </tr>\n",
       "    <tr>\n",
       "      <th>1554</th>\n",
       "      <td>42971</td>\n",
       "      <td>Bhubaneswar</td>\n",
       "      <td>20.24</td>\n",
       "      <td>85.82</td>\n",
       "      <td>49</td>\n",
       "      <td>India</td>\n",
       "    </tr>\n",
       "    <tr>\n",
       "      <th>1555</th>\n",
       "      <td>43003</td>\n",
       "      <td>Bombay/Santacruz</td>\n",
       "      <td>19.09</td>\n",
       "      <td>72.87</td>\n",
       "      <td>8</td>\n",
       "      <td>India</td>\n",
       "    </tr>\n",
       "    <tr>\n",
       "      <th>1556</th>\n",
       "      <td>43041</td>\n",
       "      <td>Jagdalpur</td>\n",
       "      <td>19.08</td>\n",
       "      <td>82.03</td>\n",
       "      <td>554</td>\n",
       "      <td>India</td>\n",
       "    </tr>\n",
       "    <tr>\n",
       "      <th>1557</th>\n",
       "      <td>43057</td>\n",
       "      <td>Mumbai/Colaba</td>\n",
       "      <td>18.90</td>\n",
       "      <td>72.81</td>\n",
       "      <td>11</td>\n",
       "      <td>India</td>\n",
       "    </tr>\n",
       "    <tr>\n",
       "      <th>1558</th>\n",
       "      <td>43063</td>\n",
       "      <td>Pune</td>\n",
       "      <td>18.53</td>\n",
       "      <td>73.85</td>\n",
       "      <td>558</td>\n",
       "      <td>India</td>\n",
       "    </tr>\n",
       "    <tr>\n",
       "      <th>1559</th>\n",
       "      <td>43128</td>\n",
       "      <td>Hyderabad Airp.</td>\n",
       "      <td>17.45</td>\n",
       "      <td>78.47</td>\n",
       "      <td>535</td>\n",
       "      <td>India</td>\n",
       "    </tr>\n",
       "    <tr>\n",
       "      <th>1560</th>\n",
       "      <td>43149</td>\n",
       "      <td>Vishakhapatnam Airp.</td>\n",
       "      <td>17.72</td>\n",
       "      <td>83.23</td>\n",
       "      <td>3</td>\n",
       "      <td>India</td>\n",
       "    </tr>\n",
       "    <tr>\n",
       "      <th>1561</th>\n",
       "      <td>43150</td>\n",
       "      <td>Vishakhapatnam</td>\n",
       "      <td>17.68</td>\n",
       "      <td>83.29</td>\n",
       "      <td>70</td>\n",
       "      <td>India</td>\n",
       "    </tr>\n",
       "    <tr>\n",
       "      <th>1562</th>\n",
       "      <td>43185</td>\n",
       "      <td>Machilipatnam</td>\n",
       "      <td>16.20</td>\n",
       "      <td>81.15</td>\n",
       "      <td>10</td>\n",
       "      <td>India</td>\n",
       "    </tr>\n",
       "    <tr>\n",
       "      <th>1563</th>\n",
       "      <td>43192</td>\n",
       "      <td>Panjim</td>\n",
       "      <td>15.48</td>\n",
       "      <td>73.82</td>\n",
       "      <td>64</td>\n",
       "      <td>India</td>\n",
       "    </tr>\n",
       "    <tr>\n",
       "      <th>1564</th>\n",
       "      <td>43197</td>\n",
       "      <td>Belgaum</td>\n",
       "      <td>15.85</td>\n",
       "      <td>74.53</td>\n",
       "      <td>753</td>\n",
       "      <td>India</td>\n",
       "    </tr>\n",
       "    <tr>\n",
       "      <th>1565</th>\n",
       "      <td>43198</td>\n",
       "      <td>Belgaum Airp.</td>\n",
       "      <td>15.86</td>\n",
       "      <td>74.62</td>\n",
       "      <td>747</td>\n",
       "      <td>India</td>\n",
       "    </tr>\n",
       "    <tr>\n",
       "      <th>1566</th>\n",
       "      <td>43279</td>\n",
       "      <td>Chennai (Madras) Airp.</td>\n",
       "      <td>13.00</td>\n",
       "      <td>80.18</td>\n",
       "      <td>16</td>\n",
       "      <td>India</td>\n",
       "    </tr>\n",
       "    <tr>\n",
       "      <th>1567</th>\n",
       "      <td>43283</td>\n",
       "      <td>Mangalore</td>\n",
       "      <td>12.87</td>\n",
       "      <td>74.85</td>\n",
       "      <td>22</td>\n",
       "      <td>India</td>\n",
       "    </tr>\n",
       "    <tr>\n",
       "      <th>1568</th>\n",
       "      <td>43284</td>\n",
       "      <td>Mangaluru Airp.</td>\n",
       "      <td>12.96</td>\n",
       "      <td>74.89</td>\n",
       "      <td>106</td>\n",
       "      <td>India</td>\n",
       "    </tr>\n",
       "    <tr>\n",
       "      <th>1569</th>\n",
       "      <td>43295</td>\n",
       "      <td>Bangalore</td>\n",
       "      <td>12.97</td>\n",
       "      <td>77.58</td>\n",
       "      <td>923</td>\n",
       "      <td>India</td>\n",
       "    </tr>\n",
       "    <tr>\n",
       "      <th>1570</th>\n",
       "      <td>43314</td>\n",
       "      <td>Kozhikode</td>\n",
       "      <td>11.25</td>\n",
       "      <td>75.78</td>\n",
       "      <td>5</td>\n",
       "      <td>India</td>\n",
       "    </tr>\n",
       "    <tr>\n",
       "      <th>1571</th>\n",
       "      <td>43333</td>\n",
       "      <td>Port Blair</td>\n",
       "      <td>11.67</td>\n",
       "      <td>92.72</td>\n",
       "      <td>79</td>\n",
       "      <td>India</td>\n",
       "    </tr>\n",
       "    <tr>\n",
       "      <th>1572</th>\n",
       "      <td>43363</td>\n",
       "      <td>Pamban</td>\n",
       "      <td>09.28</td>\n",
       "      <td>79.22</td>\n",
       "      <td>11</td>\n",
       "      <td>India</td>\n",
       "    </tr>\n",
       "    <tr>\n",
       "      <th>1573</th>\n",
       "      <td>43369</td>\n",
       "      <td>Minicoy/Lakkadiven</td>\n",
       "      <td>08.28</td>\n",
       "      <td>73.05</td>\n",
       "      <td>2</td>\n",
       "      <td>India</td>\n",
       "    </tr>\n",
       "    <tr>\n",
       "      <th>1574</th>\n",
       "      <td>43371</td>\n",
       "      <td>Thiruvananthapuram</td>\n",
       "      <td>08.48</td>\n",
       "      <td>76.95</td>\n",
       "      <td>64</td>\n",
       "      <td>India</td>\n",
       "    </tr>\n",
       "    <tr>\n",
       "      <th>3890</th>\n",
       "      <td>89514</td>\n",
       "      <td>Maitri</td>\n",
       "      <td>-70.77</td>\n",
       "      <td>11.73</td>\n",
       "      <td>183</td>\n",
       "      <td>India</td>\n",
       "    </tr>\n",
       "    <tr>\n",
       "      <th>3927</th>\n",
       "      <td>89776</td>\n",
       "      <td>Bharati</td>\n",
       "      <td>-69.41</td>\n",
       "      <td>76.19</td>\n",
       "      <td>33</td>\n",
       "      <td>India</td>\n",
       "    </tr>\n",
       "  </tbody>\n",
       "</table>\n",
       "</div>"
      ],
      "text/plain": [
       "      IIiii                 StationName Latitude Longitude Height Country\n",
       "1520  42027                    Srinagar    34.08     74.83   1587   India\n",
       "1521  42034                         Leh    34.15     77.57   3513   India\n",
       "1522  42071                    Amritsar    31.71     74.80    234   India\n",
       "1523  42099                    Ludhiana    30.93     75.87    247   India\n",
       "1524  42131                      Hissar    29.17     75.73    210   India\n",
       "1525  42147                  Mukteshwar    29.47     79.65   2311   India\n",
       "1526  42165                     Bikaner    28.00     73.30    224   India\n",
       "1527  42182  New Delhi/Safdarjung Airp.    28.58     77.20    216   India\n",
       "1528  42260                        Agra    27.15     77.97    169   India\n",
       "1529  42261                        Agra    27.17     78.03    169   India\n",
       "1530  42295                  Darjeeling    27.05     88.26   2134   India\n",
       "1531  42314             Dibrugarh Airp.    27.48     95.02    111   India\n",
       "1532  42339                     Jodhpur    26.25     73.05    221   India\n",
       "1533  42348             Jaipur/Sanganer    26.82     75.80    390   India\n",
       "1534  42391                   Darbhanga    26.17     85.90     49   India\n",
       "1535  42404                      Dhubri    26.02     89.98     35   India\n",
       "1536  42410              Guwahati Airp.    26.10     91.58     54   India\n",
       "1537  42451                        Kota    25.18     75.85    256   India\n",
       "1538  42452                        Kota    25.16     75.85    279   India\n",
       "1539  42475                   Allahabad    25.45     81.73     98   India\n",
       "1540  42492                       Patna    25.19     85.09     57   India\n",
       "1541  42515                 Cherrapunji    25.25     91.73   1300   India\n",
       "1542  42587                  Daltonganj    24.05     84.07    221   India\n",
       "1543  42599                       Dumka    24.27     87.25    149   India\n",
       "1544  42619                     Silchar    24.82     92.80     21   India\n",
       "1545  42647                   Ahmadabad    23.07     72.63     56   India\n",
       "1546  42671                       Sagar    23.85     78.75    550   India\n",
       "1547  42731                      Dwarka    22.37     69.08     11   India\n",
       "1548  42754                      Indore    22.72     75.80    567   India\n",
       "1549  42807          Kolkata (Calcutta)    22.53     88.33      6   India\n",
       "1550  42867                      Nagpur    21.10     79.05    310   India\n",
       "1551  42909                     Veraval    20.90     70.37     12   India\n",
       "1552  42933                       Akola    20.70     77.03    282   India\n",
       "1553  42970                     Cuttack    20.47     85.93     27   India\n",
       "1554  42971                 Bhubaneswar    20.24     85.82     49   India\n",
       "1555  43003            Bombay/Santacruz    19.09     72.87      8   India\n",
       "1556  43041                   Jagdalpur    19.08     82.03    554   India\n",
       "1557  43057               Mumbai/Colaba    18.90     72.81     11   India\n",
       "1558  43063                        Pune    18.53     73.85    558   India\n",
       "1559  43128             Hyderabad Airp.    17.45     78.47    535   India\n",
       "1560  43149        Vishakhapatnam Airp.    17.72     83.23      3   India\n",
       "1561  43150              Vishakhapatnam    17.68     83.29     70   India\n",
       "1562  43185               Machilipatnam    16.20     81.15     10   India\n",
       "1563  43192                      Panjim    15.48     73.82     64   India\n",
       "1564  43197                     Belgaum    15.85     74.53    753   India\n",
       "1565  43198               Belgaum Airp.    15.86     74.62    747   India\n",
       "1566  43279      Chennai (Madras) Airp.    13.00     80.18     16   India\n",
       "1567  43283                   Mangalore    12.87     74.85     22   India\n",
       "1568  43284             Mangaluru Airp.    12.96     74.89    106   India\n",
       "1569  43295                   Bangalore    12.97     77.58    923   India\n",
       "1570  43314                   Kozhikode    11.25     75.78      5   India\n",
       "1571  43333                  Port Blair    11.67     92.72     79   India\n",
       "1572  43363                      Pamban    09.28     79.22     11   India\n",
       "1573  43369          Minicoy/Lakkadiven    08.28     73.05      2   India\n",
       "1574  43371          Thiruvananthapuram    08.48     76.95     64   India\n",
       "3890  89514                      Maitri   -70.77     11.73    183   India\n",
       "3927  89776                     Bharati   -69.41     76.19     33   India"
      ]
     },
     "execution_count": 34,
     "metadata": {},
     "output_type": "execute_result"
    }
   ],
   "source": [
    "stations_df[stations_df['Country']=='India']"
   ]
  },
  {
   "cell_type": "code",
   "execution_count": 35,
   "metadata": {
    "collapsed": true
   },
   "outputs": [],
   "source": [
    "delhi_station_id = 42182\n",
    "leh_station_id = 42034"
   ]
  },
  {
   "cell_type": "code",
   "execution_count": 41,
   "metadata": {},
   "outputs": [
    {
     "data": {
      "text/html": [
       "<div>\n",
       "<style scoped>\n",
       "    .dataframe tbody tr th:only-of-type {\n",
       "        vertical-align: middle;\n",
       "    }\n",
       "\n",
       "    .dataframe tbody tr th {\n",
       "        vertical-align: top;\n",
       "    }\n",
       "\n",
       "    .dataframe thead th {\n",
       "        text-align: right;\n",
       "    }\n",
       "</style>\n",
       "<table border=\"1\" class=\"dataframe\">\n",
       "  <thead>\n",
       "    <tr style=\"text-align: right;\">\n",
       "      <th></th>\n",
       "      <th>year</th>\n",
       "      <th>month</th>\n",
       "      <th>IIiii</th>\n",
       "      <th>T</th>\n",
       "      <th>Tx</th>\n",
       "      <th>Tn</th>\n",
       "    </tr>\n",
       "  </thead>\n",
       "  <tbody>\n",
       "    <tr>\n",
       "      <th>1052</th>\n",
       "      <td>2021</td>\n",
       "      <td>7</td>\n",
       "      <td>42027</td>\n",
       "      <td>247.0</td>\n",
       "      <td>300.0</td>\n",
       "      <td>195.0</td>\n",
       "    </tr>\n",
       "    <tr>\n",
       "      <th>1056</th>\n",
       "      <td>2021</td>\n",
       "      <td>7</td>\n",
       "      <td>42182</td>\n",
       "      <td>314.0</td>\n",
       "      <td>365.0</td>\n",
       "      <td>264.0</td>\n",
       "    </tr>\n",
       "  </tbody>\n",
       "</table>\n",
       "</div>"
      ],
      "text/plain": [
       "      year  month  IIiii      T     Tx     Tn\n",
       "1052  2021      7  42027  247.0  300.0  195.0\n",
       "1056  2021      7  42182  314.0  365.0  264.0"
      ]
     },
     "execution_count": 41,
     "metadata": {},
     "output_type": "execute_result"
    }
   ],
   "source": [
    "sample_raw_file_df[sample_raw_file_df['IIiii'].isin([delhi_station_id, leh_station_id, 42027])]"
   ]
  },
  {
   "cell_type": "code",
   "execution_count": 39,
   "metadata": {},
   "outputs": [
    {
     "data": {
      "text/plain": [
       "2779"
      ]
     },
     "execution_count": 39,
     "metadata": {},
     "output_type": "execute_result"
    }
   ],
   "source": [
    "sample_raw_file_df['IIiii'].nunique()"
   ]
  },
  {
   "cell_type": "code",
   "execution_count": 40,
   "metadata": {},
   "outputs": [
    {
     "data": {
      "text/plain": [
       "4398"
      ]
     },
     "execution_count": 40,
     "metadata": {},
     "output_type": "execute_result"
    }
   ],
   "source": [
    "stations_df['IIiii'].nunique()"
   ]
  },
  {
   "cell_type": "code",
   "execution_count": null,
   "metadata": {
    "collapsed": true
   },
   "outputs": [],
   "source": []
  }
 ],
 "metadata": {
  "kernelspec": {
   "display_name": "Python 3",
   "language": "python",
   "name": "python3"
  },
  "language_info": {
   "codemirror_mode": {
    "name": "ipython",
    "version": 3
   },
   "file_extension": ".py",
   "mimetype": "text/x-python",
   "name": "python",
   "nbconvert_exporter": "python",
   "pygments_lexer": "ipython3",
   "version": "3.6.7"
  }
 },
 "nbformat": 4,
 "nbformat_minor": 2
}
